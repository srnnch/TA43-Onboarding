{
 "cells": [
  {
   "cell_type": "code",
   "execution_count": 50,
   "id": "76ddd82e",
   "metadata": {},
   "outputs": [],
   "source": [
    "# pip install requests\n",
    "import requests\n",
    "import pandas as pd\n",
    "import json\n",
    "import time\n",
    "from datetime import datetime, timedelta\n"
   ]
  },
  {
   "cell_type": "code",
   "execution_count": 51,
   "id": "b0fdfdae",
   "metadata": {},
   "outputs": [],
   "source": [
    "# City of Melbourne token\n",
    "headers = {\n",
    "    \"key_com\" : \"8272f3e3cf855ca3006bd9d38e135f06a0714adb8519bf503af526af\"\n",
    "}"
   ]
  },
  {
   "cell_type": "code",
   "execution_count": 52,
   "id": "71d2eb03",
   "metadata": {},
   "outputs": [
    {
     "name": "stdout",
     "output_type": "stream",
     "text": [
      "{'total_count': 0, 'results': []}\n",
      "Offset 0, fetched 0\n",
      "No record updates.\n"
     ]
    },
    {
     "ename": "KeyboardInterrupt",
     "evalue": "",
     "output_type": "error",
     "traceback": [
      "\u001b[0;31m---------------------------------------------------------------------------\u001b[0m",
      "\u001b[0;31mKeyboardInterrupt\u001b[0m                         Traceback (most recent call last)",
      "Cell \u001b[0;32mIn[52], line 73\u001b[0m\n\u001b[1;32m     70\u001b[0m         \u001b[38;5;28mprint\u001b[39m(\u001b[38;5;124m\"\u001b[39m\u001b[38;5;124mNo record updates.\u001b[39m\u001b[38;5;124m\"\u001b[39m)\n\u001b[1;32m     72\u001b[0m     \u001b[38;5;66;03m# loop report\u001b[39;00m\n\u001b[0;32m---> 73\u001b[0m     time\u001b[38;5;241m.\u001b[39msleep(loop_interval)\n\u001b[1;32m     75\u001b[0m \u001b[38;5;28mprint\u001b[39m(df_onstreet_pbs)\n",
      "\u001b[0;31mKeyboardInterrupt\u001b[0m: "
     ]
    }
   ],
   "source": [
    "# Real-time: On-street parking bay sensors\n",
    "\n",
    "# On-street parking bay sensors\n",
    "onstreet_pbs_url = \"https://data.melbourne.vic.gov.au/api/explore/v2.1/catalog/datasets/on-street-parking-bay-sensors/records\"\n",
    "\n",
    "headers = {\n",
    "    \"key_com\" : \"8272f3e3cf855ca3006bd9d38e135f06a0714adb8519bf503af526af\"\n",
    "}\n",
    "# record limit per iteration\n",
    "record_limit = 100\n",
    "\n",
    "\n",
    "# loop interval: 2 min.\n",
    "loop_interval = 10\n",
    "\n",
    "# initialise current time - buffer\n",
    "current_time_buffer = (datetime.now() - timedelta(seconds=20)).isoformat()\n",
    "\n",
    "\n",
    "while True:\n",
    "    # initialise list for storing updated_data\n",
    "    updated_lst = []\n",
    "    offset = 0\n",
    "    while True:\n",
    "        condition = {\"limit\" : record_limit,\n",
    "                    \"offset\" : offset,\n",
    "                    \"where\" : f\"lastupdated > '{current_time_buffer}'\"}\n",
    "        \n",
    "        # Get request\n",
    "        onstreet_pbs_response = requests.get(onstreet_pbs_url,\n",
    "                                            headers=headers,\n",
    "                                            params=condition)\n",
    "        # print test\n",
    "        test = onstreet_pbs_response.json()\n",
    "        print(test)\n",
    "\n",
    "        # HTTP breakout condition\n",
    "        res_status_cd = onstreet_pbs_response.status_code\n",
    "        if res_status_cd != 200:\n",
    "            if res_status_cd >= 500:\n",
    "                print(f\"Failed: {res_status_cd} Server Error\")\n",
    "            else:\n",
    "                print(f\"Failed: {res_status_cd} Request Error\", onstreet_pbs_response.text)\n",
    "            break\n",
    "\n",
    "        # Get response into record, csv format\n",
    "        record_json = onstreet_pbs_response.json()\n",
    "        record_onstreet_pbs = record_json.get(\"results\", [])\n",
    "        print(f\"Offset {offset}, fetched {len(record_onstreet_pbs)}\")\n",
    "\n",
    "        # break condition if no record \n",
    "        if not record_onstreet_pbs:\n",
    "            break\n",
    "        \n",
    "        # append new record into list\n",
    "        updated_lst.extend(record_onstreet_pbs)\n",
    "\n",
    "        # update offest with record_limit\n",
    "        offset += record_limit\n",
    "\n",
    "    if updated_lst:\n",
    "        # convert json into pandas dataframe for data mapping\n",
    "        df_onstreet_pbs = pd.DataFrame(updated_lst)\n",
    "        print(f\"{len(df_onstreet_pbs)} records updated.\")\n",
    "\n",
    "        # update current time\n",
    "        current_time_buffer = max(pd.to_datetime(df_onstreet_pbs[\"lastupdated\"]))\n",
    "    \n",
    "    else:\n",
    "        print(\"No record updates.\")\n",
    "    \n",
    "    # loop report\n",
    "    time.sleep(loop_interval)\n",
    "\n",
    "print(df_onstreet_pbs)"
   ]
  },
  {
   "cell_type": "code",
   "execution_count": 53,
   "id": "fdbbe4dd",
   "metadata": {},
   "outputs": [],
   "source": [
    "# 1 (Get 100 records) On-street parking bay sensors\n",
    "onstreet_pbs_url = \"https://data.melbourne.vic.gov.au/api/explore/v2.1/catalog/datasets/on-street-parking-bay-sensors/records?limit=100\"\n",
    "\n",
    "# Get request\n",
    "onstreet_pbs_response = requests.get(onstreet_pbs_url, headers=headers)\n",
    "\n",
    "# Output\n",
    "onstreet_pbs_data = onstreet_pbs_response.json()"
   ]
  },
  {
   "cell_type": "code",
   "execution_count": null,
   "id": "ac9228d5",
   "metadata": {},
   "outputs": [
    {
     "name": "stdout",
     "output_type": "stream",
     "text": [
      "                lastupdated          status_timestamp  parkingzone  \\\n",
      "0 2024-12-30 00:44:37+00:00 2024-08-18 08:23:46+00:00         7394   \n",
      "1 2025-01-10 02:44:36+00:00 2024-08-14 09:22:05+00:00         7392   \n",
      "2 2024-12-04 23:44:37+00:00 2024-11-28 02:30:57+00:00         7084   \n",
      "3 2024-12-04 23:44:37+00:00 2024-11-27 23:23:40+00:00         7084   \n",
      "4 2025-01-09 05:44:36+00:00 2023-08-21 00:09:03+00:00         7800   \n",
      "\n",
      "  status_description  kerbsideid   longitude   latitude parking_date  \\\n",
      "0         Unoccupied        9344  144.959161 -37.804944   2024-08-18   \n",
      "1         Unoccupied        9373  144.958363 -37.803291   2024-08-14   \n",
      "2            Present        8735  144.961205 -37.802233   2024-11-28   \n",
      "3         Unoccupied        8749  144.961851 -37.802304   2024-11-27   \n",
      "4            Present       24505  144.957599 -37.797563   2023-08-21   \n",
      "\n",
      "  parking_time  is_available  \n",
      "0     08:23:46             1  \n",
      "1     09:22:05             1  \n",
      "2     02:30:57             0  \n",
      "3     23:23:40             1  \n",
      "4     00:09:03             0  \n",
      "lastupdated           datetime64[ns, UTC]\n",
      "status_timestamp      datetime64[ns, UTC]\n",
      "parkingzone                         Int64\n",
      "status_description                 object\n",
      "kerbsideid                          int64\n",
      "longitude                         float64\n",
      "latitude                          float64\n",
      "parking_date                       object\n",
      "parking_time                       object\n",
      "is_available                        int64\n",
      "dtype: object\n"
     ]
    }
   ],
   "source": [
    "# extract record list\n",
    "record_onstreet_pbs = onstreet_pbs_data[\"results\"]\n",
    "\n",
    "# convert json to dataframe\n",
    "df_onstreet_pbs = pd.json_normalize(record_onstreet_pbs)\n",
    "\n",
    "# rename column header\n",
    "df_onstreet_pbs = df_onstreet_pbs.rename(\n",
    "    columns={\"zone_number\" : \"parkingzone\",\n",
    "             \"location.lon\" : \"longitude\",\n",
    "             \"location.lat\" : \"latitude\"}\n",
    "    )\n",
    "\n",
    "# convert datetime columns\n",
    "df_onstreet_pbs[\"lastupdated\"] = pd.to_datetime(df_onstreet_pbs[\"lastupdated\"])\n",
    "# df_onstreet_pbs[\"lastupdated\"] = df_onstreet_pbs[\"lastupdated\"].dt.strftime(\"%H:%M:%S\")\n",
    "\n",
    "df_onstreet_pbs[\"status_timestamp\"] = pd.to_datetime(df_onstreet_pbs[\"status_timestamp\"])\n",
    "# df_onstreet_pbs[\"status_timestamp\"] = df_onstreet_pbs[\"status_timestamp\"].dt.strftime(\"%H:%M:%S\")\n",
    "df_onstreet_pbs[\"parking_date\"] = df_onstreet_pbs[\"status_timestamp\"].dt.date\n",
    "df_onstreet_pbs[\"parking_time\"] = df_onstreet_pbs[\"status_timestamp\"].dt.time\n",
    "\n",
    "df_onstreet_pbs[\"parkingzone\"] = df_onstreet_pbs[\"parkingzone\"].astype(\"Int64\")\n",
    "\n",
    "\n",
    "def parking_status(x):\n",
    "    \"\"\"\n",
    "    Function convert parking status.\n",
    "    Parameter: x is parking bay sensor record from status_description\n",
    "    Returns:\n",
    "    1 if parking is available (Unoccupied),\n",
    "    0 if parking is not available (Present)\n",
    "    \"\"\"\n",
    "    if x[\"status_description\"] == \"Unoccupied\":\n",
    "        return 1\n",
    "    else:\n",
    "        return 0\n",
    "\n",
    "df_onstreet_pbs[\"is_available\"] = df_onstreet_pbs.apply(parking_status, axis=1)\n",
    "\n",
    "# output\n",
    "print(df_onstreet_pbs.head())\n",
    "print(df_onstreet_pbs.dtypes)\n",
    "df_onstreet_pbs"
   ]
  },
  {
   "cell_type": "code",
   "execution_count": null,
   "id": "5a1f2ac1",
   "metadata": {},
   "outputs": [],
   "source": [
    "# 2. Sign plates located in each parking zone\n",
    "sign_plates_loc_url = \"https://data.melbourne.vic.gov.au/api/explore/v2.1/catalog/datasets/sign-plates-located-in-each-parking-zone/records?limit=100\"\n",
    "\n",
    "# Get request\n",
    "sign_plates_loc_response = requests.get(sign_plates_loc_url, headers=headers)\n",
    "\n",
    "# Output\n",
    "sign_plates_loc_data = sign_plates_loc_response.json()"
   ]
  },
  {
   "cell_type": "code",
   "execution_count": null,
   "id": "f8885da8",
   "metadata": {},
   "outputs": [
    {
     "name": "stdout",
     "output_type": "stream",
     "text": [
      "    parkingzone restriction_days time_restrictions_start  \\\n",
      "0          7003          Mon-Fri                07:30:00   \n",
      "1          7009              Sat                07:30:00   \n",
      "2          7056              Sat                07:30:00   \n",
      "3          7066          Mon-Fri                07:30:00   \n",
      "4          7062              Sat                07:30:00   \n",
      "..          ...              ...                     ...   \n",
      "95         7870          Mon-Fri                19:00:00   \n",
      "96         7873          Mon-Fri                19:00:00   \n",
      "97         7873          Sat-Sun                07:00:00   \n",
      "98         7874          Sat-Sun                07:00:00   \n",
      "99         7877          Mon-Sat                07:00:00   \n",
      "\n",
      "   time_restrictions_finish restriction_display  \n",
      "0                  18:30:00                  2P  \n",
      "1                  12:30:00                  1P  \n",
      "2                  12:30:00                  1P  \n",
      "3                  18:30:00                  2P  \n",
      "4                  12:30:00                  2P  \n",
      "..                      ...                 ...  \n",
      "95                 22:00:00                MP3P  \n",
      "96                 22:00:00                MP2P  \n",
      "97                 22:00:00                MP2P  \n",
      "98                 22:00:00                MP2P  \n",
      "99                 19:00:00                  3P  \n",
      "\n",
      "[100 rows x 5 columns]\n",
      "['2P' '1P' 'MP2P' 'LZ30' 'MP1P' 'FP2P' 'PP' '4P' 'MP3P' 'FP15' '3P']\n"
     ]
    },
    {
     "name": "stderr",
     "output_type": "stream",
     "text": [
      "/var/folders/75/z6cm1pgd70n51s73mxk7qh480000gn/T/ipykernel_1693/1632403442.py:8: UserWarning: Could not infer format, so each element will be parsed individually, falling back to `dateutil`. To ensure parsing is consistent and as-expected, please specify a format.\n",
      "  df_sign_plates_loc[\"time_restrictions_start\"] = pd.to_datetime(df_sign_plates_loc[\"time_restrictions_start\"])\n",
      "/var/folders/75/z6cm1pgd70n51s73mxk7qh480000gn/T/ipykernel_1693/1632403442.py:11: UserWarning: Could not infer format, so each element will be parsed individually, falling back to `dateutil`. To ensure parsing is consistent and as-expected, please specify a format.\n",
      "  df_sign_plates_loc[\"time_restrictions_finish\"] = pd.to_datetime(df_sign_plates_loc[\"time_restrictions_finish\"])\n"
     ]
    }
   ],
   "source": [
    "# extract record list\n",
    "record_sign_plates_loc = sign_plates_loc_data[\"results\"]\n",
    "\n",
    "# convert json to dataframe\n",
    "df_sign_plates_loc = pd.json_normalize(record_sign_plates_loc)\n",
    "\n",
    "# convert datetime columns\n",
    "df_sign_plates_loc[\"time_restrictions_start\"] = pd.to_datetime(df_sign_plates_loc[\"time_restrictions_start\"])\n",
    "df_sign_plates_loc[\"time_restrictions_start\"] = df_sign_plates_loc[\"time_restrictions_start\"].dt.time\n",
    "\n",
    "df_sign_plates_loc[\"time_restrictions_finish\"] = pd.to_datetime(df_sign_plates_loc[\"time_restrictions_finish\"])\n",
    "df_sign_plates_loc[\"time_restrictions_finish\"] = df_sign_plates_loc[\"time_restrictions_finish\"].dt.time\n",
    "\n",
    "# for checking\n",
    "print(df_sign_plates_loc)\n",
    "\n",
    "print(df_sign_plates_loc[\"restriction_display\"].unique())\n",
    "\n",
    "# # Day of week dict {day:idx}\n",
    "# day_dict = {\n",
    "#     \"\"\n",
    "# }"
   ]
  },
  {
   "cell_type": "code",
   "execution_count": null,
   "id": "f92ff7ab",
   "metadata": {},
   "outputs": [
    {
     "name": "stdout",
     "output_type": "stream",
     "text": [
      "   parkingzone restriction_days time_restrictions_start  \\\n",
      "0         7033          Mon-Fri     1900-01-01 07:30:00   \n",
      "1         7047              Sat     1900-01-01 07:30:00   \n",
      "2         7068              Sat     1900-01-01 07:30:00   \n",
      "3         7089              Sat     1900-01-01 07:30:00   \n",
      "4         7109              Sat     1900-01-01 07:30:00   \n",
      "\n",
      "  time_restrictions_finish restriction_display  \n",
      "0      1900-01-01 18:30:00                  2P  \n",
      "1      1900-01-01 12:30:00                  2P  \n",
      "2      1900-01-01 12:30:00                  1P  \n",
      "3      1900-01-01 12:30:00                  2P  \n",
      "4      1900-01-01 12:30:00                  1P  \n",
      "parkingzone                          int64\n",
      "restriction_days                    object\n",
      "time_restrictions_start     datetime64[ns]\n",
      "time_restrictions_finish    datetime64[ns]\n",
      "restriction_display                 object\n",
      "dtype: object\n"
     ]
    }
   ],
   "source": [
    "# 2. (Static record) Sign plates located in each parking zone\n",
    "with open(\"Dataset/sign-plates-located-in-each-parking-zone.json\", \"r\") as file:\n",
    "    data_sign_plates = json.load(file)\n",
    "\n",
    "# convert json to dataframe\n",
    "df_sign_plates = pd.json_normalize(data_sign_plates)\n",
    "\n",
    "# format column data type\n",
    "df_sign_plates[\"time_restrictions_start\"] = pd.to_datetime(df_sign_plates[\"time_restrictions_start\"], format=\"%H:%M:%S\")\n",
    "\n",
    "df_sign_plates[\"time_restrictions_finish\"] = pd.to_datetime(df_sign_plates[\"time_restrictions_finish\"], format=\"%H:%M:%S\")\n",
    "\n",
    "# output\n",
    "print(df_sign_plates.head())\n",
    "print(df_sign_plates.dtypes)"
   ]
  },
  {
   "cell_type": "code",
   "execution_count": null,
   "id": "e3b37a6d",
   "metadata": {},
   "outputs": [
    {
     "name": "stderr",
     "output_type": "stream",
     "text": [
      "/var/folders/75/z6cm1pgd70n51s73mxk7qh480000gn/T/ipykernel_3740/68085418.py:2: FutureWarning: pandas.value_counts is deprecated and will be removed in a future version. Use pd.Series(obj).value_counts() instead.\n",
      "  pd.value_counts(count_dist)\n"
     ]
    },
    {
     "data": {
      "application/vnd.microsoft.datawrangler.viewer.v0+json": {
       "columns": [
        {
         "name": "index",
         "rawType": "int64",
         "type": "integer"
        },
        {
         "name": "count",
         "rawType": "int64",
         "type": "integer"
        }
       ],
       "ref": "fbf5921c-068a-482a-bd2f-a413506b6f6c",
       "rows": [
        [
         "7033",
         "1"
        ],
        [
         "7781",
         "1"
        ],
        [
         "7659",
         "1"
        ],
        [
         "7677",
         "1"
        ],
        [
         "7695",
         "1"
        ],
        [
         "7705",
         "1"
        ],
        [
         "7711",
         "1"
        ],
        [
         "7728",
         "1"
        ],
        [
         "7730",
         "1"
        ],
        [
         "7739",
         "1"
        ],
        [
         "7770",
         "1"
        ],
        [
         "7792",
         "1"
        ],
        [
         "7644",
         "1"
        ],
        [
         "7809",
         "1"
        ],
        [
         "7813",
         "1"
        ],
        [
         "7822",
         "1"
        ],
        [
         "7824",
         "1"
        ],
        [
         "7832",
         "1"
        ],
        [
         "7867",
         "1"
        ],
        [
         "7878",
         "1"
        ],
        [
         "7921",
         "1"
        ],
        [
         "7935",
         "1"
        ],
        [
         "7652",
         "1"
        ],
        [
         "7640",
         "1"
        ],
        [
         "7479",
         "1"
        ],
        [
         "7545",
         "1"
        ],
        [
         "7498",
         "1"
        ],
        [
         "7499",
         "1"
        ],
        [
         "7506",
         "1"
        ],
        [
         "7510",
         "1"
        ],
        [
         "7521",
         "1"
        ],
        [
         "7523",
         "1"
        ],
        [
         "7525",
         "1"
        ],
        [
         "7532",
         "1"
        ],
        [
         "7538",
         "1"
        ],
        [
         "7550",
         "1"
        ],
        [
         "7631",
         "1"
        ],
        [
         "7553",
         "1"
        ],
        [
         "7566",
         "1"
        ],
        [
         "7565",
         "1"
        ],
        [
         "7567",
         "1"
        ],
        [
         "7577",
         "1"
        ],
        [
         "7602",
         "1"
        ],
        [
         "7605",
         "1"
        ],
        [
         "7621",
         "1"
        ],
        [
         "7617",
         "1"
        ],
        [
         "7947",
         "1"
        ],
        [
         "7959",
         "1"
        ],
        [
         "7963",
         "1"
        ],
        [
         "7780",
         "1"
        ]
       ],
       "shape": {
        "columns": 1,
        "rows": 757
       }
      },
      "text/plain": [
       "7033    1\n",
       "7781    1\n",
       "7659    1\n",
       "7677    1\n",
       "7695    1\n",
       "       ..\n",
       "7802    1\n",
       "7818    1\n",
       "7814    1\n",
       "7819    1\n",
       "7806    1\n",
       "Name: count, Length: 757, dtype: int64"
      ]
     },
     "execution_count": 47,
     "metadata": {},
     "output_type": "execute_result"
    }
   ],
   "source": [
    "count_dist= df_sign_plates[\"parkingzone\"].unique()\n",
    "pd.value_counts(count_dist)"
   ]
  },
  {
   "cell_type": "code",
   "execution_count": null,
   "id": "13ecbdd7",
   "metadata": {},
   "outputs": [],
   "source": [
    "# 3. Parking zone linked to street segments\n",
    "parking_zone_url = \"https://data.melbourne.vic.gov.au/api/explore/v2.1/catalog/datasets/parking-zones-linked-to-street-segments/records?limit=100\"\n",
    "\n",
    "# Get request\n",
    "parking_zone_response = requests.get(parking_zone_url, headers=headers)\n",
    "\n",
    "# Output\n",
    "parking_zone_data = parking_zone_response.json()"
   ]
  },
  {
   "cell_type": "code",
   "execution_count": null,
   "id": "a7bef649",
   "metadata": {},
   "outputs": [
    {
     "name": "stdout",
     "output_type": "stream",
     "text": [
      "    parkingzone          onstreet            streetfrom            streetto  \\\n",
      "0          7000       Poplar Road       Upfield Railway      Kendall Avenue   \n",
      "1          7031   Cardigan Street    Argyle Place North      Grattan Street   \n",
      "2          7068      Lygon Street        Faraday Street        Elgin Street   \n",
      "3          7067      Lygon Street         Pelham Street  Argyle Place North   \n",
      "4          7118   Swanston Street  Lincoln Square North      Grattan Street   \n",
      "..          ...               ...                   ...                 ...   \n",
      "95         7229    Village Street        Collins Street       McCrae Street   \n",
      "96         7236     Albert Street        Morrison Place    Lansdowne Street   \n",
      "97         7258  Lansdowne Street       Cathedral Place       Albert Street   \n",
      "98         7260  Lansdowne Street         Albert Street     Victoria Parade   \n",
      "99         7284   Victoria Parade      Nicholson Street     Gisborne Street   \n",
      "\n",
      "    segment_id  \n",
      "0        22405  \n",
      "1        20512  \n",
      "2        20534  \n",
      "3        20528  \n",
      "4        20488  \n",
      "..         ...  \n",
      "95       22894  \n",
      "96       20891  \n",
      "97       21850  \n",
      "98       20896  \n",
      "99       21560  \n",
      "\n",
      "[100 rows x 5 columns]\n",
      "parkingzone     int64\n",
      "onstreet       object\n",
      "streetfrom     object\n",
      "streetto       object\n",
      "segment_id      int64\n",
      "dtype: object\n"
     ]
    }
   ],
   "source": [
    "# extract record list\n",
    "record_parking_zone = parking_zone_data[\"results\"]\n",
    "\n",
    "# convert json to dataframe\n",
    "record_parking_zone = pd.json_normalize(record_parking_zone)\n",
    "\n",
    "print(record_parking_zone)\n",
    "print(record_parking_zone.dtypes)"
   ]
  },
  {
   "cell_type": "code",
   "execution_count": null,
   "id": "70566307",
   "metadata": {},
   "outputs": [
    {
     "name": "stdout",
     "output_type": "stream",
     "text": [
      "     parkingzone         onstreet            streetfrom            streetto  \\\n",
      "0           7000      Poplar Road       Upfield Railway      Kendall Avenue   \n",
      "1           7031  Cardigan Street    Argyle Place North      Grattan Street   \n",
      "2           7068     Lygon Street        Faraday Street        Elgin Street   \n",
      "3           7067     Lygon Street         Pelham Street  Argyle Place North   \n",
      "4           7118  Swanston Street  Lincoln Square North      Grattan Street   \n",
      "..           ...              ...                   ...                 ...   \n",
      "793         7963   Rosslyn Street         Howard Street         King Street   \n",
      "794         7950    Railway Place        Stanley Street        Roden Street   \n",
      "795         7968   Spencer Street       La Trobe Street     Jeffcott Street   \n",
      "796         7975   Stanley Street           King Street      Spencer Street   \n",
      "797         7995   William Street          Capel Street      Rosslyn Street   \n",
      "\n",
      "     segment_id  \n",
      "0         22405  \n",
      "1         20512  \n",
      "2         20534  \n",
      "3         20528  \n",
      "4         20488  \n",
      "..          ...  \n",
      "793       21388  \n",
      "794       21543  \n",
      "795       21506  \n",
      "796       21429  \n",
      "797       21385  \n",
      "\n",
      "[798 rows x 5 columns]\n"
     ]
    }
   ],
   "source": [
    "# 3. (Static record) Parking zone linked to street segments\n",
    "with open(\"Dataset/parking-zones-linked-to-street-segments.json\", \"r\") as file:\n",
    "    data_parking_zones = json.load(file)\n",
    "\n",
    "df_parking_zones = pd.json_normalize(data_parking_zones)\n",
    "print(df_parking_zones)\n"
   ]
  },
  {
   "cell_type": "code",
   "execution_count": null,
   "id": "78349c13",
   "metadata": {},
   "outputs": [
    {
     "name": "stdout",
     "output_type": "stream",
     "text": [
      "   segment_id  kerbsideid                             roadsegmentdescription  \\\n",
      "0       21376         NaN  Eades Place between Stanley Street and Roden S...   \n",
      "1       21376         NaN  Eades Place between Stanley Street and Roden S...   \n",
      "2       22651     53514.0  Elizabeth Street between Little La Trobe Stree...   \n",
      "3       21957         NaN  Vale Street South between Punt Road and Vale S...   \n",
      "4       21346         NaN  Curzon Street between Miller Street and Victor...   \n",
      "\n",
      "    latitude   longitude lastupdated  location.lon  location.lat  \n",
      "0 -37.806315  144.951000  2023-10-31    144.951000    -37.806315  \n",
      "1 -37.806336  144.951010  2023-10-31    144.951010    -37.806336  \n",
      "2 -37.809539  144.961113  2024-08-02    144.961113    -37.809539  \n",
      "3 -37.819311  144.989214  2024-08-08    144.989214    -37.819311  \n",
      "4 -37.805509  144.947801  2023-10-31    144.947801    -37.805509  \n",
      "segment_id                         int64\n",
      "kerbsideid                       float64\n",
      "roadsegmentdescription            object\n",
      "latitude                         float64\n",
      "longitude                        float64\n",
      "lastupdated               datetime64[ns]\n",
      "location.lon                     float64\n",
      "location.lat                     float64\n",
      "dtype: object\n"
     ]
    }
   ],
   "source": [
    "# (static) 4. On-street parking bays\n",
    "with open(\"Dataset/on-street-parking-bays.json\", \"r\") as file:\n",
    "    data_parking_bays = json.load(file)\n",
    "\n",
    "# convert json to dataframe\n",
    "df_parking_bays = pd.json_normalize(data_parking_bays)\n",
    "\n",
    "# rename column\n",
    "df_parking_bays = df_parking_bays.rename(columns={\"roadsegmentid\" : \"segment_id\"})\n",
    "\n",
    "# format column data type\n",
    "df_parking_bays[\"kerbsideid\"] = pd.to_numeric(df_parking_bays[\"kerbsideid\"], errors=\"coerce\")\n",
    "\n",
    "df_parking_bays[\"lastupdated\"] = pd.to_datetime(df_parking_bays[\"lastupdated\"], format=\"%Y-%m-%d\")\n",
    "\n",
    "print(df_parking_bays.head())\n",
    "print(df_parking_bays.dtypes)"
   ]
  },
  {
   "cell_type": "code",
   "execution_count": null,
   "id": "2c7831ed",
   "metadata": {},
   "outputs": [
    {
     "name": "stdout",
     "output_type": "stream",
     "text": [
      "       segment_id  kerbsideid  \\\n",
      "0         20508.0         NaN   \n",
      "1         20508.0         NaN   \n",
      "2         20508.0         NaN   \n",
      "3         20508.0         NaN   \n",
      "4         20508.0         NaN   \n",
      "...           ...         ...   \n",
      "54992         NaN         NaN   \n",
      "54993         NaN         NaN   \n",
      "54994         NaN         NaN   \n",
      "54995         NaN         NaN   \n",
      "54996         NaN         NaN   \n",
      "\n",
      "                                  roadsegmentdescription   latitude  \\\n",
      "0      Cardigan Street between Argyle Place South and... -37.803143   \n",
      "1      Cardigan Street between Argyle Place South and... -37.803119   \n",
      "2      Cardigan Street between Argyle Place South and... -37.803176   \n",
      "3      Cardigan Street between Argyle Place South and... -37.802873   \n",
      "4      Cardigan Street between Argyle Place South and... -37.802926   \n",
      "...                                                  ...        ...   \n",
      "54992                                                NaN        NaN   \n",
      "54993                                                NaN        NaN   \n",
      "54994                                                NaN        NaN   \n",
      "54995                                                NaN        NaN   \n",
      "54996                                                NaN        NaN   \n",
      "\n",
      "        longitude lastupdated  location.lon  location.lat  parkingzone  \\\n",
      "0      144.965021  2024-09-06    144.965021    -37.803143         7033   \n",
      "1      144.965025  2024-09-06    144.965025    -37.803119         7033   \n",
      "2      144.964892  2024-09-06    144.964892    -37.803176         7033   \n",
      "3      144.965184  2024-09-06    144.965184    -37.802873         7033   \n",
      "4      144.965056  2024-09-06    144.965056    -37.802926         7033   \n",
      "...           ...         ...           ...           ...          ...   \n",
      "54992         NaN         NaT           NaN           NaN         7969   \n",
      "54993         NaN         NaT           NaN           NaN         7994   \n",
      "54994         NaN         NaT           NaN           NaN         7994   \n",
      "54995         NaN         NaT           NaN           NaN         7997   \n",
      "54996         NaN         NaT           NaN           NaN         7998   \n",
      "\n",
      "              onstreet          streetfrom       streetto restriction_days  \\\n",
      "0      Cardigan Street  Argyle Place South  Pelham Street          Mon-Fri   \n",
      "1      Cardigan Street  Argyle Place South  Pelham Street          Mon-Fri   \n",
      "2      Cardigan Street  Argyle Place South  Pelham Street          Mon-Fri   \n",
      "3      Cardigan Street  Argyle Place South  Pelham Street          Mon-Fri   \n",
      "4      Cardigan Street  Argyle Place South  Pelham Street          Mon-Fri   \n",
      "...                ...                 ...            ...              ...   \n",
      "54992              NaN                 NaN            NaN          Mon-Fri   \n",
      "54993              NaN                 NaN            NaN          Mon-Fri   \n",
      "54994              NaN                 NaN            NaN          Mon-Fri   \n",
      "54995              NaN                 NaN            NaN          Mon-Fri   \n",
      "54996              NaN                 NaN            NaN          Mon-Fri   \n",
      "\n",
      "      time_restrictions_start time_restrictions_finish restriction_display  \n",
      "0         1900-01-01 07:30:00      1900-01-01 18:30:00                  2P  \n",
      "1         1900-01-01 07:30:00      1900-01-01 18:30:00                  2P  \n",
      "2         1900-01-01 07:30:00      1900-01-01 18:30:00                  2P  \n",
      "3         1900-01-01 07:30:00      1900-01-01 18:30:00                  2P  \n",
      "4         1900-01-01 07:30:00      1900-01-01 18:30:00                  2P  \n",
      "...                       ...                      ...                 ...  \n",
      "54992     1900-01-01 19:00:00      1900-01-01 22:00:00                MP2P  \n",
      "54993     1900-01-01 07:00:00      1900-01-01 16:00:00                LZ30  \n",
      "54994     1900-01-01 16:00:00      1900-01-01 19:00:00                MP3P  \n",
      "54995     1900-01-01 19:00:00      1900-01-01 22:00:00                MP3P  \n",
      "54996     1900-01-01 16:00:00      1900-01-01 19:00:00                MP3P  \n",
      "\n",
      "[54997 rows x 16 columns]\n"
     ]
    }
   ],
   "source": [
    "# this merged only work when their is enough record available\n",
    "df_static_merged = (\n",
    "    df_parking_bays.merge(df_parking_zones, on=\"segment_id\", how=\"right\")\n",
    "    .merge(df_sign_plates, on=\"parkingzone\", how=\"right\")\n",
    ")\n",
    "\n",
    "print(df_static_merged)"
   ]
  },
  {
   "cell_type": "code",
   "execution_count": null,
   "id": "d2d2b48f",
   "metadata": {},
   "outputs": [
    {
     "name": "stdout",
     "output_type": "stream",
     "text": [
      "                lastupdated          status_timestamp  parkingzone  \\\n",
      "0 2025-01-21 03:42:37+00:00 2025-01-20 05:57:00+00:00         7053   \n",
      "1 2025-01-21 03:42:37+00:00 2025-01-21 02:13:44+00:00         7053   \n",
      "2 2025-01-21 03:42:37+00:00 2025-01-16 04:56:56+00:00         7053   \n",
      "3 2025-01-21 03:42:37+00:00 2025-01-18 04:03:08+00:00         7053   \n",
      "4 2025-01-21 03:42:37+00:00 2025-01-10 07:20:16+00:00         7053   \n",
      "5 2025-01-21 03:42:37+00:00 2025-01-17 20:39:32+00:00         7053   \n",
      "6 2024-12-11 04:44:36+00:00 2024-12-06 01:42:44+00:00         7018   \n",
      "7 2025-06-23 05:44:34+00:00 2025-02-28 00:25:04+00:00         7922   \n",
      "\n",
      "  status_description  kerbsideid   longitude   latitude parking_date  \\\n",
      "0            Present       10280  144.972402 -37.795027   2025-01-20   \n",
      "1         Unoccupied       10287  144.971412 -37.794919   2025-01-21   \n",
      "2            Present       10283  144.971971 -37.794980   2025-01-16   \n",
      "3            Present       24369  144.972718 -37.795062   2025-01-18   \n",
      "4            Present       24366  144.971670 -37.794947   2025-01-10   \n",
      "5            Present       24367  144.971348 -37.794912   2025-01-17   \n",
      "6         Unoccupied       26279  144.962338 -37.801900   2024-12-06   \n",
      "7            Present       10801  144.955222 -37.806123   2025-02-28   \n",
      "\n",
      "  parking_time  is_available         onstreet            streetfrom  \\\n",
      "0     05:57:00             0       Kay Street        Canning Street   \n",
      "1     02:13:44             1       Kay Street        Canning Street   \n",
      "2     04:56:56             0       Kay Street        Canning Street   \n",
      "3     04:03:08             0       Kay Street        Canning Street   \n",
      "4     07:20:16             0       Kay Street        Canning Street   \n",
      "5     20:39:32             0       Kay Street        Canning Street   \n",
      "6     01:42:44             1  Bouverie Street  Lincoln Square South   \n",
      "7     00:25:04             0     Capel Street        William Street   \n",
      "\n",
      "           streetto  segment_id  \n",
      "0  Rathdowne Street       20573  \n",
      "1  Rathdowne Street       20573  \n",
      "2  Rathdowne Street       20573  \n",
      "3  Rathdowne Street       20573  \n",
      "4  Rathdowne Street       20573  \n",
      "5  Rathdowne Street       20573  \n",
      "6     Pelham Street       22503  \n",
      "7   Victoria Street       21392  \n"
     ]
    }
   ],
   "source": [
    "# this merge only contain 8 record\n",
    "parking_merge1 = pd.merge(\n",
    "    df_onstreet_pbs,\n",
    "    record_parking_zone,\n",
    "    left_on=[\"parkingzone\"],\n",
    "    right_on=[\"parkingzone\"],\n",
    "    how=\"inner\"\n",
    ")\n",
    "\n",
    "print(parking_merge1)"
   ]
  },
  {
   "cell_type": "code",
   "execution_count": null,
   "id": "99db5d15",
   "metadata": {},
   "outputs": [
    {
     "name": "stdout",
     "output_type": "stream",
     "text": [
      "Requirement already satisfied: sqlalchemy in /opt/anaconda3/lib/python3.12/site-packages (2.0.30)\n",
      "Collecting psycopg2-binary\n",
      "  Downloading psycopg2_binary-2.9.10-cp312-cp312-macosx_14_0_arm64.whl.metadata (4.9 kB)\n",
      "Requirement already satisfied: typing-extensions>=4.6.0 in /opt/anaconda3/lib/python3.12/site-packages (from sqlalchemy) (4.11.0)\n",
      "Downloading psycopg2_binary-2.9.10-cp312-cp312-macosx_14_0_arm64.whl (3.3 MB)\n",
      "\u001b[2K   \u001b[90m━━━━━━━━━━━━━━━━━━━━━━━━━━━━━━━━━━━━━━━━\u001b[0m \u001b[32m3.3/3.3 MB\u001b[0m \u001b[31m11.6 MB/s\u001b[0m eta \u001b[36m0:00:00\u001b[0m00:01\u001b[0m00:01\u001b[0m\n",
      "\u001b[?25hInstalling collected packages: psycopg2-binary\n",
      "Successfully installed psycopg2-binary-2.9.10\n"
     ]
    }
   ],
   "source": [
    "# !pip install sqlalchemy psycopg2-binary\n",
    "\n",
    "# connect with aws database\n",
    "from sqlalchemy import create_engine\n",
    "\n",
    "engine = create_engine()"
   ]
  },
  {
   "cell_type": "code",
   "execution_count": null,
   "id": "1eed7b25",
   "metadata": {},
   "outputs": [],
   "source": [
    "# check connection\n",
    "with engine.connect() as conn:\n",
    "    result = conn.execute(\"SELECT NOW()\")\n",
    "    print(result.fetchone())"
   ]
  }
 ],
 "metadata": {
  "kernelspec": {
   "display_name": "base",
   "language": "python",
   "name": "python3"
  },
  "language_info": {
   "codemirror_mode": {
    "name": "ipython",
    "version": 3
   },
   "file_extension": ".py",
   "mimetype": "text/x-python",
   "name": "python",
   "nbconvert_exporter": "python",
   "pygments_lexer": "ipython3",
   "version": "3.12.4"
  }
 },
 "nbformat": 4,
 "nbformat_minor": 5
}
